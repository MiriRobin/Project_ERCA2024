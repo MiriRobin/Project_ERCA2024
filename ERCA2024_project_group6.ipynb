{
 "cells": [
  {
   "cell_type": "markdown",
   "id": "a3b595bb",
   "metadata": {},
   "source": [
    "## Project Group6 : Snow cover trends"
   ]
  },
  {
   "cell_type": "markdown",
   "id": "c7eb871a",
   "metadata": {},
   "source": [
    "### Imports"
   ]
  },
  {
   "cell_type": "code",
   "execution_count": 9,
   "id": "b5f368f6",
   "metadata": {},
   "outputs": [],
   "source": [
    "#%matplotlib widget\n",
    "\n",
    "import matplotlib.pyplot as plt\n",
    "from matplotlib.widgets import Slider\n",
    "import matplotlib.dates as mdates\n",
    "import pandas as pd\n",
    "import os\n",
    "import numpy as np\n",
    "import datetime as dt\n",
    "from scipy import stats as stats\n",
    "import matplotlib as mpl\n",
    "import mpl_interactions.ipyplot as iplt\n",
    "from ipywidgets import interact\n",
    "import pickle\n",
    "import netCDF4 as net\n",
    "import xarray as xr\n",
    "import seaborn as sn\n",
    "import cdsapi\n",
    "pd.set_option(\"display.max_rows\", None, \"display.max_columns\", None)"
   ]
  },
  {
   "cell_type": "markdown",
   "id": "81ddb1ae",
   "metadata": {},
   "source": [
    "### Data gathering from ERA-5 (PANGEO)"
   ]
  },
  {
   "cell_type": "code",
   "execution_count": null,
   "id": "405a1318",
   "metadata": {},
   "outputs": [],
   "source": []
  },
  {
   "cell_type": "code",
   "execution_count": null,
   "id": "4a79ec2e",
   "metadata": {},
   "outputs": [],
   "source": []
  },
  {
   "cell_type": "code",
   "execution_count": null,
   "id": "2845858f",
   "metadata": {},
   "outputs": [],
   "source": []
  }
 ],
 "metadata": {
  "kernelspec": {
   "display_name": "Python 3 (ipykernel)",
   "language": "python",
   "name": "python3"
  },
  "language_info": {
   "codemirror_mode": {
    "name": "ipython",
    "version": 3
   },
   "file_extension": ".py",
   "mimetype": "text/x-python",
   "name": "python",
   "nbconvert_exporter": "python",
   "pygments_lexer": "ipython3",
   "version": "3.9.7"
  }
 },
 "nbformat": 4,
 "nbformat_minor": 5
}
